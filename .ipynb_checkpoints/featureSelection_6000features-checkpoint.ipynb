{
 "cells": [
  {
   "cell_type": "code",
   "execution_count": 1,
   "metadata": {},
   "outputs": [],
   "source": [
    "import xlrd\n",
    "import numpy as np\n",
    "\n",
    "#read class\n",
    "def readTranscript(filename='genes_transcript.xlsx'):\n",
    "    sheet = xlrd.open_workbook(filename).sheet_by_index(0)\n",
    "    nRows = sheet.nrows\n",
    "    my_class_label = []\n",
    "    my_class_value = []\n",
    "    for rowNum in range(0,nRows):\n",
    "        rowList = []\n",
    "        row = sheet.row_values(rowNum)\n",
    "        rowLabel = row.pop(0)\n",
    "        my_class_label.append([rowLabel])\n",
    "        for el in row:\n",
    "            rowList.append([el])\n",
    "        rowList = np.array(rowList)\n",
    "        my_class_value.append(rowList)\n",
    "    my_class_label = np.array(my_class_label)\n",
    "    my_class_value = np.array(my_class_value)\n",
    "    #print(my_class_label)\n",
    "    #print(my_class_value)\n",
    "    return my_class_label, my_class_value\n",
    "\n",
    "#read data\n",
    "def readData(filename='gene_data.xlsx'):\n",
    "    sheet = xlrd.open_workbook(filename).sheet_by_index(0)\n",
    "    nRows = sheet.nrows\n",
    "    my_data_value = []\n",
    "    for rowNum in range(0,nRows):\n",
    "        rowList = []\n",
    "        row = sheet.row_values(rowNum)\n",
    "        for el in row:\n",
    "            rowList.append([el])\n",
    "        rowList = np.array(rowList)\n",
    "        my_data_value.append(rowList)\n",
    "    my_data_value = np.array(my_data_value)\n",
    "    #print(my_data_value)\n",
    "    return my_data_value\n",
    "\n",
    "class_name, class_value = readTranscript()\n",
    "data_value = readData()"
   ]
  },
  {
   "cell_type": "code",
   "execution_count": 2,
   "metadata": {},
   "outputs": [],
   "source": [
    "#Chi square feature selection\n",
    "\n",
    "from sklearn.preprocessing import MinMaxScaler\n",
    "from sklearn.feature_selection import SelectKBest, chi2\n",
    "\n",
    "#select 100 features\n",
    "def chisq_feature_selection(X, y,numoffeature=100):\n",
    "    \n",
    "    #chi square\n",
    "    chisq = SelectKBest(chi2, k=numoffeature)\n",
    "    Xchi = chisq.fit_transform(X, y)\n",
    "    return Xchi\n"
   ]
  },
  {
   "cell_type": "code",
   "execution_count": 3,
   "metadata": {},
   "outputs": [],
   "source": [
    "data = np.copy(data_value)\n",
    "#print(data)"
   ]
  },
  {
   "cell_type": "code",
   "execution_count": 4,
   "metadata": {},
   "outputs": [],
   "source": [
    "#remove header(name of each sample)\n",
    "data = np.delete(data, 0,axis=0)\n",
    "#print(data1)\n",
    "\n",
    "#remove first row(ID row)\n",
    "data = np.delete(data, 0, axis=1)\n",
    "#print(data2)\n",
    "\n",
    "#turn 3dd list to 2d list\n",
    "#print(data2.shape)\n",
    "data = np.reshape(data, (data.shape[0], data.shape[1],))\n",
    "#print(data3.shape)\n",
    "\n",
    "#data to match the class\n",
    "data = data.transpose()\n",
    "#print(data4)\n",
    "\n",
    "#change from str to float\n",
    "data_float = data.astype(np.float)\n",
    "#print(data_float)"
   ]
  },
  {
   "cell_type": "code",
   "execution_count": 5,
   "metadata": {},
   "outputs": [],
   "source": [
    "#select gleason (total) score\n",
    "y = class_value[3]\n",
    "#print(y)\n",
    "\n",
    "#change from str to float\n",
    "y_float = y.astype(np.float)\n",
    "#print(y_float)\n",
    "\n",
    "#reshape y to 1d\n",
    "y_float = np.reshape(y_float, (y_float.shape[0]))\n"
   ]
  },
  {
   "cell_type": "code",
   "execution_count": 6,
   "metadata": {
    "scrolled": true
   },
   "outputs": [
    {
     "name": "stdout",
     "output_type": "stream",
     "text": [
      "(494, 100)\n"
     ]
    }
   ],
   "source": [
    "X = chisq_feature_selection(data_float, y_float)\n",
    "print(X.shape)"
   ]
  },
  {
   "cell_type": "code",
   "execution_count": 7,
   "metadata": {},
   "outputs": [
    {
     "name": "stdout",
     "output_type": "stream",
     "text": [
      "(494,)\n"
     ]
    }
   ],
   "source": [
    "#train test split\n",
    "#from sklearn.model_selection import train_test_split\n",
    "#train_data, test_data, train_class, test_class = train_test_split(X, y_float, test_size=0.1, random_state=20201217)\n",
    "\n",
    "print(y_float.shape)"
   ]
  },
  {
   "cell_type": "code",
   "execution_count": 8,
   "metadata": {
    "scrolled": true
   },
   "outputs": [],
   "source": [
    "#max feature selected/ calculated\n",
    "max_feature = 6000"
   ]
  },
  {
   "cell_type": "code",
   "execution_count": 9,
   "metadata": {},
   "outputs": [
    {
     "name": "stdout",
     "output_type": "stream",
     "text": [
      "[0.06527833 0.40353633 2.35755822 ... 1.58091633 4.16816624 0.17849916]\n",
      "(494, 6000)\n",
      "[[1.17156670e+01 2.87916480e+02 2.04992570e+01 ... 7.07296180e-01\n",
      "  1.27832110e-01 7.84557900e-02]\n",
      " [7.89670500e+00 2.70663170e+02 1.88114140e+01 ... 8.29180400e-01\n",
      "  2.08433020e+00 2.86666100e+00]\n",
      " [9.94510400e+00 1.73897560e+02 2.84360210e+01 ... 4.03124930e-01\n",
      "  5.34120021e+00 1.22287500e-01]\n",
      " ...\n",
      " [7.80273000e+00 1.42760430e+02 2.50107040e+01 ... 1.18188718e+00\n",
      "  1.66708360e-01 8.11806000e-02]\n",
      " [1.08245800e+01 1.96679520e+02 2.56612490e+01 ... 4.08050007e+00\n",
      "  1.18974448e+00 6.66190700e-03]\n",
      " [8.27114100e+00 2.48459250e+02 1.77300830e+01 ... 3.03877812e+00\n",
      "  3.07432990e-01 6.05676300e-02]]\n"
     ]
    }
   ],
   "source": [
    "#calculate chi square and sort the column according to the scores\n",
    "selector = SelectKBest(chi2, k=max_feature).fit(data_float, y_float)\n",
    "x_new = selector.transform(data_float)\n",
    "selector_scores = selector.scores_\n",
    "print(selector_scores)\n",
    "print(x_new.shape)\n",
    "Z = [elx for _,elx in sorted(zip(selector_scores,x_new))]\n",
    "\n",
    "Zchi = np.array(Z)\n",
    "print(Zchi)"
   ]
  },
  {
   "cell_type": "code",
   "execution_count": 10,
   "metadata": {},
   "outputs": [],
   "source": [
    "#cross val with chi square\n",
    "import warnings\n",
    "from matplotlib import pyplot as plt\n",
    "from sklearn import svm\n",
    "from sklearn.model_selection import cross_val_score\n",
    "\n",
    "svmClassifier = svm.SVC()\n",
    "\n",
    "#disable warning\n",
    "warnings.filterwarnings(action='ignore')\n",
    "\n",
    "chisq_scoreList = []\n",
    "for fea in range(1, max_feature+1):\n",
    "    Xfea = Zchi[:,:fea]\n",
    "    \n",
    "    scores = cross_val_score(svmClassifier, Xfea, y_float, cv=10)\n",
    "    chisq_scoreList.append(scores[-1])\n"
   ]
  },
  {
   "cell_type": "code",
   "execution_count": 11,
   "metadata": {
    "scrolled": true
   },
   "outputs": [
    {
     "data": {
      "image/png": "[encoded data removed]",
      "text/plain": [
       "<Figure size 432x288 with 1 Axes>"
      ]
     },
     "metadata": {
      "needs_background": "light"
     },
     "output_type": "display_data"
    }
   ],
   "source": [
    "#plot result\n",
    "#print(chisq_scoreList)\n",
    "plt.figure()\n",
    "plt.title('cross val score under different number of features')\n",
    "plt.plot(range(1,max_feature+1),chisq_scoreList )\n",
    "plt.show()"
   ]
  },
  {
   "cell_type": "code",
   "execution_count": 12,
   "metadata": {},
   "outputs": [
    {
     "name": "stdout",
     "output_type": "stream",
     "text": [
      "[0.         0.01095043 0.         ... 0.         0.03642851 0.        ]\n"
     ]
    }
   ],
   "source": [
    "#mutual information feature selection\n",
    "from sklearn.feature_selection import mutual_info_classif\n",
    "\n",
    "selector = SelectKBest(mutual_info_classif, k=max_feature).fit(data_float, y_float)\n",
    "x_new = selector.transform(data_float)\n",
    "\n",
    "selector_scores = selector.scores_\n",
    "print(selector_scores)"
   ]
  },
  {
   "cell_type": "code",
   "execution_count": 13,
   "metadata": {},
   "outputs": [
    {
     "name": "stdout",
     "output_type": "stream",
     "text": [
      "[[0.         0.         0.         ... 0.         0.         0.        ]\n",
      " [0.         0.         0.         ... 0.         0.         0.16365037]\n",
      " [0.         0.         0.         ... 0.         0.         0.        ]\n",
      " ...\n",
      " [0.         0.         0.         ... 0.         0.         0.55522926]\n",
      " [0.         0.         0.         ... 0.         0.         0.27268981]\n",
      " [0.         0.         0.         ... 0.         0.         0.08985056]]\n"
     ]
    }
   ],
   "source": [
    "Z = []\n",
    "for x_row in x_new:\n",
    "    z = [elx for _,elx in sorted(zip(selector_scores, x_row))]\n",
    "    Z.append(np.array(z))\n",
    "ZmutalInfo = np.array(Z)\n",
    "print(ZmutalInfo)"
   ]
  },
  {
   "cell_type": "code",
   "execution_count": 14,
   "metadata": {},
   "outputs": [],
   "source": [
    "#cross val with mutual info\n",
    "import warnings\n",
    "from matplotlib import pyplot as plt\n",
    "\n",
    "svmClassifier = svm.SVC()\n",
    "\n",
    "#disable warning\n",
    "warnings.filterwarnings(action='ignore')\n",
    "\n",
    "mutualInfo_scoreList = []\n",
    "for fea in range(1, max_feature+1):\n",
    "    Xfea = ZmutalInfo[:,:fea]\n",
    "    \n",
    "    scores = cross_val_score(svmClassifier, X, y_float, cv=10)\n",
    "    mutualInfo_scoreList.append(scores[-1])"
   ]
  },
  {
   "cell_type": "code",
   "execution_count": 15,
   "metadata": {
    "scrolled": true
   },
   "outputs": [
    {
     "data": {
      "image/png": "[encoded data removed]",
      "text/plain": [
       "<Figure size 432x288 with 1 Axes>"
      ]
     },
     "metadata": {
      "needs_background": "light"
     },
     "output_type": "display_data"
    }
   ],
   "source": [
    "#plot result\n",
    "#print(mutualInfo_scoreList)\n",
    "plt.figure()\n",
    "plt.title('cross val score under different number of features')\n",
    "plt.plot(range(1,max_feature+1),mutualInfo_scoreList )\n",
    "plt.show()"
   ]
  },
  {
   "cell_type": "code",
   "execution_count": 16,
   "metadata": {},
   "outputs": [
    {
     "name": "stdout",
     "output_type": "stream",
     "text": [
      "[0.         0.         0.         ... 0.02219114 0.0364321  0.01422726]\n"
     ]
    }
   ],
   "source": [
    "#f test feature selection\n",
    "from sklearn.feature_selection import f_classif\n",
    "\n",
    "selector = SelectKBest(mutual_info_classif, k=max_feature).fit(data_float, y_float)\n",
    "x_new = selector.transform(data_float)\n",
    "selector_scores = selector.scores_\n",
    "print(selector_scores)"
   ]
  },
  {
   "cell_type": "code",
   "execution_count": 17,
   "metadata": {
    "scrolled": true
   },
   "outputs": [
    {
     "name": "stdout",
     "output_type": "stream",
     "text": [
      "[[0.         0.         0.         ... 0.         0.         0.2441215 ]\n",
      " [0.         0.         0.         ... 0.0646181  0.         0.35217338]\n",
      " [0.         0.         0.         ... 0.         0.         0.17185888]\n",
      " ...\n",
      " [0.         0.         0.         ... 0.         0.         0.15450594]\n",
      " [0.         0.         0.         ... 0.         0.         0.21584361]\n",
      " [0.         0.         0.         ... 0.         0.11168045 0.35337693]]\n"
     ]
    }
   ],
   "source": [
    "Z = []\n",
    "for x_row in x_new:\n",
    "    z = [elx for _,elx in sorted(zip(selector_scores, x_row))]\n",
    "    Z.append(np.array(z))\n",
    "\n",
    "Zftest = np.array(Z)\n",
    "print(Zftest)"
   ]
  },
  {
   "cell_type": "code",
   "execution_count": 18,
   "metadata": {},
   "outputs": [],
   "source": [
    "#cross val with f test\n",
    "import warnings\n",
    "from matplotlib import pyplot as plt\n",
    "\n",
    "svmClassifier = svm.SVC()\n",
    "\n",
    "#disable warning\n",
    "warnings.filterwarnings(action='ignore')\n",
    "\n",
    "f_test_scoreList = []\n",
    "for fea in range(1, max_feature+1):\n",
    "    Xfea = Zftest[:,:fea]\n",
    "    \n",
    "    scores = cross_val_score(svmClassifier, X, y_float, cv=10)\n",
    "    f_test_scoreList.append(scores[-1])"
   ]
  },
  {
   "cell_type": "code",
   "execution_count": 19,
   "metadata": {
    "scrolled": false
   },
   "outputs": [
    {
     "data": {
      "image/png": "[encoded data removed]",
      "text/plain": [
       "<Figure size 432x288 with 1 Axes>"
      ]
     },
     "metadata": {
      "needs_background": "light"
     },
     "output_type": "display_data"
    }
   ],
   "source": [
    "#plot result\n",
    "#print(f_test_scoreList)\n",
    "plt.figure()\n",
    "plt.title('cross val score under different number of features')\n",
    "plt.plot(range(1,max_feature+1),f_test_scoreList )\n",
    "plt.show()"
   ]
  },
  {
   "cell_type": "code",
   "execution_count": 20,
   "metadata": {
    "scrolled": true
   },
   "outputs": [
    {
     "data": {
      "image/png": "[encoded data removed]",
      "text/plain": [
       "<Figure size 432x288 with 1 Axes>"
      ]
     },
     "metadata": {
      "needs_background": "light"
     },
     "output_type": "display_data"
    }
   ],
   "source": [
    "plt.figure()\n",
    "plt.title('cross val score under different number of features')\n",
    "plt.plot(range(1,max_feature+1),chisq_scoreList, label='chi square' )\n",
    "plt.plot(range(1,max_feature+1),mutualInfo_scoreList, label='mutual info' )\n",
    "plt.plot(range(1,max_feature+1),f_test_scoreList, label='f test' )\n",
    "plt.legend()\n",
    "plt.show()"
   ]
  },
  {
   "cell_type": "code",
   "execution_count": null,
   "metadata": {},
   "outputs": [],
   "source": []
  }
 ],
 "metadata": {
  "kernelspec": {
   "display_name": "Python 3",
   "language": "python",
   "name": "python3"
  },
  "language_info": {
   "codemirror_mode": {
    "name": "ipython",
    "version": 3
   },
   "file_extension": ".py",
   "mimetype": "text/x-python",
   "name": "python",
   "nbconvert_exporter": "python",
   "pygments_lexer": "ipython3",
   "version": "3.7.4"
  }
 },
 "nbformat": 4,
 "nbformat_minor": 2
}
