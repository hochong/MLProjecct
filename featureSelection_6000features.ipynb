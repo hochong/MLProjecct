{
 "cells": [
  {
   "cell_type": "code",
   "execution_count": 1,
   "metadata": {},
   "outputs": [],
   "source": [
    "import xlrd\n",
    "import numpy as np\n",
    "\n",
    "#read class\n",
    "def readTranscript(filename='genes_transcript.xlsx'):\n",
    "    sheet = xlrd.open_workbook(filename).sheet_by_index(0)\n",
    "    nRows = sheet.nrows\n",
    "    my_class_label = []\n",
    "    my_class_value = []\n",
    "    for rowNum in range(0,nRows):\n",
    "        rowList = []\n",
    "        row = sheet.row_values(rowNum)\n",
    "        rowLabel = row.pop(0)\n",
    "        my_class_label.append([rowLabel])\n",
    "        for el in row:\n",
    "            rowList.append([el])\n",
    "        rowList = np.array(rowList)\n",
    "        my_class_value.append(rowList)\n",
    "    my_class_label = np.array(my_class_label)\n",
    "    my_class_value = np.array(my_class_value)\n",
    "    #print(my_class_label)\n",
    "    #print(my_class_value)\n",
    "    return my_class_label, my_class_value\n",
    "\n",
    "#read data\n",
    "def readData(filename='gene_data.xlsx'):\n",
    "    sheet = xlrd.open_workbook(filename).sheet_by_index(0)\n",
    "    nRows = sheet.nrows\n",
    "    my_data_value = []\n",
    "    for rowNum in range(0,nRows):\n",
    "        rowList = []\n",
    "        row = sheet.row_values(rowNum)\n",
    "        for el in row:\n",
    "            rowList.append([el])\n",
    "        rowList = np.array(rowList)\n",
    "        my_data_value.append(rowList)\n",
    "    my_data_value = np.array(my_data_value)\n",
    "    #print(my_data_value)\n",
    "    return my_data_value\n",
    "\n",
    "class_name, class_value = readTranscript()\n",
    "data_value = readData()"
   ]
  },
  {
   "cell_type": "code",
   "execution_count": 2,
   "metadata": {},
   "outputs": [],
   "source": [
    "#Chi square feature selection\n",
    "\n",
    "from sklearn.preprocessing import MinMaxScaler\n",
    "from sklearn.feature_selection import SelectKBest, chi2\n",
    "\n",
    "#select 100 features\n",
    "def chisq_feature_selection(X, y,numoffeature=100):\n",
    "    \n",
    "    #chi square\n",
    "    chisq = SelectKBest(chi2, k=numoffeature)\n",
    "    Xchi = chisq.fit_transform(X, y)\n",
    "    return Xchi\n"
   ]
  },
  {
   "cell_type": "code",
   "execution_count": 3,
   "metadata": {},
   "outputs": [],
   "source": [
    "data = np.copy(data_value)\n",
    "#print(data)"
   ]
  },
  {
   "cell_type": "code",
   "execution_count": 4,
   "metadata": {},
   "outputs": [],
   "source": [
    "#remove header(name of each sample)\n",
    "data = np.delete(data, 0,axis=0)\n",
    "#print(data1)\n",
    "\n",
    "#remove first row(ID row)\n",
    "data = np.delete(data, 0, axis=1)\n",
    "#print(data2)\n",
    "\n",
    "#turn 3dd list to 2d list\n",
    "#print(data2.shape)\n",
    "data = np.reshape(data, (data.shape[0], data.shape[1],))\n",
    "#print(data3.shape)\n",
    "\n",
    "#data to match the class\n",
    "data = data.transpose()\n",
    "#print(data4)\n",
    "\n",
    "#change from str to float\n",
    "data_float = data.astype(np.float)\n",
    "#print(data_float)"
   ]
  },
  {
   "cell_type": "code",
   "execution_count": 5,
   "metadata": {},
   "outputs": [],
   "source": [
    "#select gleason (total) score\n",
    "y = class_value[3]\n",
    "#print(y)\n",
    "\n",
    "#change from str to float\n",
    "y_float = y.astype(np.float)\n",
    "#print(y_float)\n",
    "\n",
    "#reshape y to 1d\n",
    "y_float = np.reshape(y_float, (y_float.shape[0]))\n"
   ]
  },
  {
   "cell_type": "code",
   "execution_count": 6,
   "metadata": {
    "scrolled": true
   },
   "outputs": [
    {
     "name": "stdout",
     "output_type": "stream",
     "text": [
      "(494, 100)\n"
     ]
    }
   ],
   "source": [
    "X = chisq_feature_selection(data_float, y_float)\n",
    "print(X.shape)"
   ]
  },
  {
   "cell_type": "code",
   "execution_count": 7,
   "metadata": {},
   "outputs": [
    {
     "name": "stdout",
     "output_type": "stream",
     "text": [
      "(494,)\n"
     ]
    }
   ],
   "source": [
    "#train test split\n",
    "#from sklearn.model_selection import train_test_split\n",
    "#train_data, test_data, train_class, test_class = train_test_split(X, y_float, test_size=0.1, random_state=20201217)\n",
    "\n",
    "print(y_float.shape)"
   ]
  },
  {
   "cell_type": "code",
   "execution_count": 8,
   "metadata": {
    "scrolled": true
   },
   "outputs": [],
   "source": [
    "#max feature selected/ calculated\n",
    "max_feature = 6000"
   ]
  },
  {
   "cell_type": "code",
   "execution_count": 9,
   "metadata": {
    "scrolled": true
   },
   "outputs": [
    {
     "name": "stdout",
     "output_type": "stream",
     "text": [
      "[0.06527833 0.40353633 2.35755822 ... 1.58091633 4.16816624 0.17849916]\n",
      "(494, 6000)\n",
      "[[1.14926440e+01 1.83539690e+02 2.42082590e+01 ... 3.44449120e-01\n",
      "  1.43891469e+00 3.87693900e-02]\n",
      " [1.37680300e+01 1.97162320e+02 2.29739640e+01 ... 1.45194270e+00\n",
      "  1.22732314e+00 3.41835700e-02]\n",
      " [6.94689600e+00 1.34697040e+02 2.92846240e+01 ... 8.92024120e-01\n",
      "  5.00914700e-02 1.97836700e-01]\n",
      " ...\n",
      " [1.41769470e+01 1.15244120e+02 4.56876960e+01 ... 1.21384877e+00\n",
      "  7.24993155e+00 9.12381800e+00]\n",
      " [9.25608700e+00 1.98270540e+02 2.69704900e+01 ... 1.46168549e+00\n",
      "  4.35252366e+00 3.40155500e-01]\n",
      " [8.27114100e+00 2.48459250e+02 1.77300830e+01 ... 3.03877812e+00\n",
      "  3.07432990e-01 6.05676300e-02]]\n"
     ]
    }
   ],
   "source": [
    "#calculate chi square and sort the column according to the scores\n",
    "selector = SelectKBest(chi2, k=max_feature).fit(data_float, y_float)\n",
    "x_new = selector.transform(data_float)\n",
    "selector_scores = selector.scores_\n",
    "print(selector_scores)\n",
    "print(x_new.shape)\n",
    "Z = [elx for _,elx in sorted(zip(selector_scores,x_new), reverse=True)]\n",
    "\n",
    "Zchi = np.array(Z)\n",
    "print(Zchi)"
   ]
  },
  {
   "cell_type": "code",
   "execution_count": 10,
   "metadata": {},
   "outputs": [],
   "source": [
    "#cross val with chi square\n",
    "import warnings\n",
    "from matplotlib import pyplot as plt\n",
    "from sklearn import svm\n",
    "from sklearn.model_selection import cross_val_score\n",
    "\n",
    "svmClassifier = svm.SVC()\n",
    "\n",
    "#disable warning\n",
    "warnings.filterwarnings(action='ignore')\n",
    "\n",
    "chisq_scoreList = []\n",
    "for fea in range(1, max_feature+1):\n",
    "    Xfea = Zchi[:,:fea]\n",
    "    \n",
    "    scores = cross_val_score(svmClassifier, Xfea, y_float, cv=10)\n",
    "    chisq_scoreList.append(scores[-1])\n"
   ]
  },
  {
   "cell_type": "code",
   "execution_count": 11,
   "metadata": {
    "scrolled": true
   },
   "outputs": [
    {
     "data": {
      "image/png": "[encoded data removed]",
      "text/plain": [
       "<Figure size 432x288 with 1 Axes>"
      ]
     },
     "metadata": {
      "needs_background": "light"
     },
     "output_type": "display_data"
    }
   ],
   "source": [
    "#plot result\n",
    "#print(chisq_scoreList)\n",
    "plt.figure()\n",
    "plt.title('cross val score under different number of features')\n",
    "plt.plot(range(1,max_feature+1),chisq_scoreList )\n",
    "plt.show()"
   ]
  },
  {
   "cell_type": "code",
   "execution_count": 12,
   "metadata": {},
   "outputs": [
    {
     "name": "stdout",
     "output_type": "stream",
     "text": [
      "[0.         0.009896   0.         ... 0.00732824 0.03644174 0.        ]\n"
     ]
    }
   ],
   "source": [
    "#mutual information feature selection\n",
    "from sklearn.feature_selection import mutual_info_classif\n",
    "\n",
    "selector = SelectKBest(mutual_info_classif, k=max_feature).fit(data_float, y_float)\n",
    "x_new = selector.transform(data_float)\n",
    "\n",
    "selector_scores = selector.scores_\n",
    "print(selector_scores)"
   ]
  },
  {
   "cell_type": "code",
   "execution_count": 13,
   "metadata": {},
   "outputs": [
    {
     "name": "stdout",
     "output_type": "stream",
     "text": [
      "[[ 0.          9.0480971   0.3534195  ...  0.          0.\n",
      "   0.        ]\n",
      " [ 0.06594587 16.0311666   0.20594859 ...  0.          0.\n",
      "   0.        ]\n",
      " [ 0.06999424  7.9893947   0.25502357 ...  0.          0.\n",
      "   0.        ]\n",
      " ...\n",
      " [ 0.         11.7160342   0.26202665 ...  0.          0.\n",
      "   0.        ]\n",
      " [ 0.          8.2145469   0.5147567  ...  0.          0.\n",
      "   0.        ]\n",
      " [ 0.          6.3954086   0.28268491 ...  0.          0.\n",
      "   0.        ]]\n"
     ]
    }
   ],
   "source": [
    "Z = []\n",
    "for x_row in x_new:\n",
    "    z = [elx for _,elx in sorted(zip(selector_scores, x_row), reverse=True)]\n",
    "    Z.append(np.array(z))\n",
    "ZmutalInfo = np.array(Z)\n",
    "print(ZmutalInfo)"
   ]
  },
  {
   "cell_type": "code",
   "execution_count": 15,
   "metadata": {},
   "outputs": [],
   "source": [
    "#cross val with mutual info\n",
    "import warnings\n",
    "from matplotlib import pyplot as plt\n",
    "\n",
    "svmClassifier = svm.SVC()\n",
    "\n",
    "#disable warning\n",
    "warnings.filterwarnings(action='ignore')\n",
    "\n",
    "mutualInfo_scoreList = []\n",
    "for fea in range(1, max_feature+1):\n",
    "    Xfea = ZmutalInfo[:,:fea]\n",
    "    \n",
    "    scores = cross_val_score(svmClassifier, Xfea, y_float, cv=10)\n",
    "    mutualInfo_scoreList.append(scores[-1])"
   ]
  },
  {
   "cell_type": "code",
   "execution_count": 16,
   "metadata": {
    "scrolled": true
   },
   "outputs": [
    {
     "data": {
      "image/png": "[encoded data removed]",
      "text/plain": [
       "<Figure size 432x288 with 1 Axes>"
      ]
     },
     "metadata": {
      "needs_background": "light"
     },
     "output_type": "display_data"
    }
   ],
   "source": [
    "#plot result\n",
    "#print(mutualInfo_scoreList)\n",
    "plt.figure()\n",
    "plt.title('cross val score under different number of features')\n",
    "plt.plot(range(1,max_feature+1),mutualInfo_scoreList )\n",
    "plt.show()"
   ]
  },
  {
   "cell_type": "code",
   "execution_count": 17,
   "metadata": {},
   "outputs": [
    {
     "name": "stdout",
     "output_type": "stream",
     "text": [
      "[0.35235882 0.26843591 1.03541104 ... 0.51129269 2.58354937 0.37016248]\n"
     ]
    }
   ],
   "source": [
    "#f test feature selection\n",
    "from sklearn.feature_selection import f_classif\n",
    "\n",
    "selector = SelectKBest(f_classif, k=max_feature).fit(data_float, y_float)\n",
    "x_new = selector.transform(data_float)\n",
    "selector_scores = selector.scores_\n",
    "print(selector_scores)"
   ]
  },
  {
   "cell_type": "code",
   "execution_count": 18,
   "metadata": {
    "scrolled": true
   },
   "outputs": [
    {
     "name": "stdout",
     "output_type": "stream",
     "text": [
      "[[ 6.29172     2.0500093   0.         ... 11.601511    0.\n",
      "   1.48164161]\n",
      " [ 7.832246    3.2586632   0.13828505 ... 17.154179    0.\n",
      "   2.60218824]\n",
      " [ 5.67586     1.9315567   0.07338714 ... 14.920001    0.\n",
      "   1.28296327]\n",
      " ...\n",
      " [ 7.230128    2.8575298   0.08796945 ... 17.801414    0.\n",
      "   1.11070057]\n",
      " [ 6.071942    0.6098189   0.         ... 15.186914    0.\n",
      "   0.89517701]\n",
      " [ 7.202479    0.6440888   0.05694299 ... 12.097729    0.\n",
      "   0.44243762]]\n"
     ]
    }
   ],
   "source": [
    "Z = []\n",
    "for x_row in x_new:\n",
    "    z = [elx for _,elx in sorted(zip(selector_scores, x_row), reverse=True)]\n",
    "    Z.append(np.array(z))\n",
    "\n",
    "Zftest = np.array(Z)\n",
    "print(Zftest)"
   ]
  },
  {
   "cell_type": "code",
   "execution_count": 19,
   "metadata": {},
   "outputs": [],
   "source": [
    "#cross val with f test\n",
    "import warnings\n",
    "from matplotlib import pyplot as plt\n",
    "\n",
    "svmClassifier = svm.SVC()\n",
    "\n",
    "#disable warning\n",
    "warnings.filterwarnings(action='ignore')\n",
    "\n",
    "f_test_scoreList = []\n",
    "for fea in range(1, max_feature+1):\n",
    "    Xfea = Zftest[:,:fea]\n",
    "    \n",
    "    scores = cross_val_score(svmClassifier, Xfea, y_float, cv=10)\n",
    "    f_test_scoreList.append(scores[-1])"
   ]
  },
  {
   "cell_type": "code",
   "execution_count": 20,
   "metadata": {
    "scrolled": false
   },
   "outputs": [
    {
     "data": {
      "image/png": "[encoded data removed]",
      "text/plain": [
       "<Figure size 432x288 with 1 Axes>"
      ]
     },
     "metadata": {
      "needs_background": "light"
     },
     "output_type": "display_data"
    }
   ],
   "source": [
    "#plot result\n",
    "#print(f_test_scoreList)\n",
    "plt.figure()\n",
    "plt.title('cross val score under different number of features')\n",
    "plt.plot(range(1,max_feature+1),f_test_scoreList )\n",
    "plt.show()"
   ]
  },
  {
   "cell_type": "code",
   "execution_count": 21,
   "metadata": {
    "scrolled": true
   },
   "outputs": [
    {
     "data": {
      "image/png": "[encoded data removed]",
      "text/plain": [
       "<Figure size 432x288 with 1 Axes>"
      ]
     },
     "metadata": {
      "needs_background": "light"
     },
     "output_type": "display_data"
    }
   ],
   "source": [
    "plt.figure()\n",
    "plt.title('cross val score under different number of features')\n",
    "plt.plot(range(1,max_feature+1),chisq_scoreList, label='chi square' )\n",
    "plt.plot(range(1,max_feature+1),mutualInfo_scoreList, label='mutual info' )\n",
    "plt.plot(range(1,max_feature+1),f_test_scoreList, label='f test' )\n",
    "plt.legend()\n",
    "plt.show()"
   ]
  },
  {
   "cell_type": "code",
   "execution_count": null,
   "metadata": {},
   "outputs": [],
   "source": []
  }
 ],
 "metadata": {
  "kernelspec": {
   "display_name": "Python 3",
   "language": "python",
   "name": "python3"
  },
  "language_info": {
   "codemirror_mode": {
    "name": "ipython",
    "version": 3
   },
   "file_extension": ".py",
   "mimetype": "text/x-python",
   "name": "python",
   "nbconvert_exporter": "python",
   "pygments_lexer": "ipython3",
   "version": "3.7.4"
  }
 },
 "nbformat": 4,
 "nbformat_minor": 2
}
