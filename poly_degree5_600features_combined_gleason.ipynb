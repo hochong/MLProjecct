{
 "cells": [
  {
   "cell_type": "code",
   "execution_count": 1,
   "metadata": {},
   "outputs": [],
   "source": [
    "import xlrd\n",
    "import numpy as np\n",
    "\n",
    "#read class\n",
    "def readTranscript(filename='genes_transcript.xlsx'):\n",
    "    sheet = xlrd.open_workbook(filename).sheet_by_index(0)\n",
    "    nRows = sheet.nrows\n",
    "    my_class_label = []\n",
    "    my_class_value = []\n",
    "    for rowNum in range(0,nRows):\n",
    "        rowList = []\n",
    "        row = sheet.row_values(rowNum)\n",
    "        rowLabel = row.pop(0)\n",
    "        my_class_label.append([rowLabel])\n",
    "        for el in row:\n",
    "            rowList.append([el])\n",
    "        rowList = np.array(rowList)\n",
    "        my_class_value.append(rowList)\n",
    "    my_class_label = np.array(my_class_label)\n",
    "    my_class_value = np.array(my_class_value)\n",
    "    #print(my_class_label)\n",
    "    #print(my_class_value)\n",
    "    return my_class_label, my_class_value\n",
    "\n",
    "#read data\n",
    "def readData(filename='gene_data.xlsx'):\n",
    "    sheet = xlrd.open_workbook(filename).sheet_by_index(0)\n",
    "    nRows = sheet.nrows\n",
    "    my_data_value = []\n",
    "    for rowNum in range(0,nRows):\n",
    "        rowList = []\n",
    "        row = sheet.row_values(rowNum)\n",
    "        for el in row:\n",
    "            rowList.append([el])\n",
    "        rowList = np.array(rowList)\n",
    "        my_data_value.append(rowList)\n",
    "    my_data_value = np.array(my_data_value)\n",
    "    #print(my_data_value)\n",
    "    return my_data_value\n",
    "\n",
    "class_name, class_value = readTranscript()\n",
    "data_value = readData()"
   ]
  },
  {
   "cell_type": "code",
   "execution_count": 2,
   "metadata": {},
   "outputs": [],
   "source": [
    "#Chi square feature selection\n",
    "\n",
    "from sklearn.preprocessing import MinMaxScaler\n",
    "from sklearn.feature_selection import SelectKBest, chi2\n"
   ]
  },
  {
   "cell_type": "code",
   "execution_count": 3,
   "metadata": {},
   "outputs": [],
   "source": [
    "data = np.copy(data_value)\n",
    "#print(data)"
   ]
  },
  {
   "cell_type": "code",
   "execution_count": 4,
   "metadata": {},
   "outputs": [],
   "source": [
    "#remove header(name of each sample)\n",
    "data = np.delete(data, 0,axis=0)\n",
    "#print(data1)\n",
    "\n",
    "#remove first row(ID row)\n",
    "data = np.delete(data, 0, axis=1)\n",
    "#print(data2)\n",
    "\n",
    "#turn 3dd list to 2d list\n",
    "#print(data2.shape)\n",
    "data = np.reshape(data, (data.shape[0], data.shape[1],))\n",
    "#print(data3.shape)\n",
    "\n",
    "#data to match the class\n",
    "data = data.transpose()\n",
    "#print(data4)\n",
    "\n",
    "#change from str to float\n",
    "data_float = data.astype(np.float)\n",
    "#print(data_float)"
   ]
  },
  {
   "cell_type": "code",
   "execution_count": 5,
   "metadata": {},
   "outputs": [],
   "source": [
    "#select gleason (total) score\n",
    "y = class_value[3]\n",
    "#print(y)\n",
    "\n",
    "#change from str to float\n",
    "y_float = y.astype(np.float)\n",
    "#print(y_float)\n",
    "\n",
    "#reshape y to 1d\n",
    "y_float = np.reshape(y_float, (y_float.shape[0]))\n"
   ]
  },
  {
   "cell_type": "code",
   "execution_count": 9,
   "metadata": {},
   "outputs": [],
   "source": [
    "y_float_class = []\n",
    "for i in range(0, y_float.shape[0]):\n",
    "    if y_float[i] < 6:    #group1 1-5\n",
    "        y_float_class.append(1.0)\n",
    "    elif y_float[i] < 7:  #group2 6\n",
    "        y_float_class.append(2.0)\n",
    "    elif y_float[i] < 8:  #group3 7\n",
    "        y_float_class.append(3.0)\n",
    "    elif y_float[i] < 10: #group4 8\n",
    "        y_float_class.append(4.0)\n",
    "    else:                 #group5 10\n",
    "        y_float_class.append(5.0)\n",
    "        "
   ]
  },
  {
   "cell_type": "code",
   "execution_count": 17,
   "metadata": {},
   "outputs": [
    {
     "name": "stdout",
     "output_type": "stream",
     "text": [
      "[4. 2. 4. 3. 4. 3. 2. 2. 4. 3. 2. 3. 3. 4. 3. 3. 3. 3. 3. 3. 5. 4. 4. 4.\n",
      " 4. 3. 3. 3. 3. 3. 3. 2. 4. 3. 4. 3. 3. 3. 3. 4. 3. 3. 4. 3. 3. 3. 3. 3.\n",
      " 3. 4. 3. 3. 4. 4. 3. 3. 3. 3. 3. 4. 3. 3. 2. 4. 4. 3. 3. 4. 4. 4. 3. 3.\n",
      " 3. 3. 3. 3. 3. 3. 3. 3. 3. 3. 3. 3. 2. 3. 3. 3. 3. 3. 3. 4. 3. 3. 3. 3.\n",
      " 3. 3. 3. 3. 3. 3. 3. 4. 4. 3. 4. 4. 4. 4. 4. 4. 4. 3. 3. 4. 4. 3. 4. 4.\n",
      " 4. 2. 4. 3. 3. 3. 3. 4. 3. 4. 3. 3. 3. 4. 3. 4. 2. 2. 3. 4. 4. 4. 3. 3.\n",
      " 2. 3. 3. 3. 3. 3. 3. 2. 3. 2. 3. 3. 3. 3. 4. 3. 3. 3. 3. 3. 3. 4. 3. 3.\n",
      " 2. 3. 3. 3. 3. 3. 3. 3. 3. 3. 4. 2. 4. 3. 4. 3. 5. 3. 4. 4. 4. 3. 2. 3.\n",
      " 2. 2. 3. 3. 3. 4. 2. 3. 3. 3. 4. 3. 3. 4. 3. 3. 3. 3. 3. 3. 3. 3. 3. 2.\n",
      " 3. 3. 3. 3. 3. 4. 3. 4. 2. 3. 3. 3. 2. 2. 3. 3. 4. 4. 4. 4. 4. 4. 4. 4.\n",
      " 3. 3. 3. 3. 3. 3. 3. 3. 3. 3. 4. 3. 3. 4. 4. 4. 3. 2. 4. 3. 3. 3. 3. 3.\n",
      " 3. 3. 2. 3. 3. 3. 4. 4. 3. 3. 3. 2. 3. 3. 3. 2. 4. 2. 4. 4. 4. 4. 4. 4.\n",
      " 4. 2. 3. 3. 3. 4. 4. 3. 3. 3. 3. 3. 3. 4. 4. 4. 3. 4. 3. 4. 4. 3. 3. 3.\n",
      " 3. 4. 4. 4. 4. 3. 4. 3. 3. 3. 3. 4. 3. 4. 4. 4. 3. 3. 3. 4. 4. 4. 4. 4.\n",
      " 4. 4. 3. 3. 3. 4. 3. 4. 4. 3. 3. 3. 2. 3. 4. 3. 4. 3. 4. 3. 3. 3. 2. 2.\n",
      " 4. 3. 3. 3. 2. 3. 2. 3. 3. 3. 3. 2. 2. 4. 4. 3. 4. 4. 4. 4. 2. 4. 4. 2.\n",
      " 2. 4. 3. 4. 4. 4. 4. 4. 4. 4. 4. 4. 3. 3. 3. 3. 3. 4. 4. 4. 4. 3. 4. 4.\n",
      " 4. 4. 3. 4. 2. 4. 3. 4. 4. 4. 4. 3. 3. 3. 3. 3. 4. 4. 2. 4. 4. 5. 4. 4.\n",
      " 3. 3. 3. 3. 3. 3. 5. 4. 2. 4. 4. 4. 4. 4. 4. 3. 4. 4. 4. 4. 4. 3. 4. 4.\n",
      " 4. 4. 4. 4. 4. 4. 4. 4. 4. 4. 4. 4. 4. 4. 2. 4. 4. 4. 4. 4. 4. 4. 4. 4.\n",
      " 4. 4. 4. 4. 4. 4. 4. 4. 4. 4. 4. 4. 4. 2.]\n"
     ]
    }
   ],
   "source": [
    "print (y_float_class)"
   ]
  },
  {
   "cell_type": "code",
   "execution_count": 18,
   "metadata": {},
   "outputs": [
    {
     "name": "stdout",
     "output_type": "stream",
     "text": [
      "(494,)\n"
     ]
    }
   ],
   "source": [
    "#train test split\n",
    "#from sklearn.model_selection import train_test_split\n",
    "#train_data, test_data, train_class, test_class = train_test_split(X, y_float, test_size=0.1, random_state=20201217)\n",
    "y_float_class = np.array(y_float_class)\n",
    "print(y_float_class.shape)"
   ]
  },
  {
   "cell_type": "code",
   "execution_count": 19,
   "metadata": {
    "scrolled": true
   },
   "outputs": [],
   "source": [
    "#max feature selected/ calculated\n",
    "max_feature_chi = 100\n",
    "max_feature_mutualInfo = 100\n",
    "max_feature_ftest_firstpeak = 100"
   ]
  },
  {
   "cell_type": "code",
   "execution_count": 20,
   "metadata": {},
   "outputs": [],
   "source": [
    "#calculate chi square and sort the column according to the scores\n",
    "selector = SelectKBest(chi2, k=max_feature_chi).fit(data_float, y_float_class)\n",
    "x_new = selector.transform(data_float)\n",
    "selector_scores = selector.scores_\n",
    "#print(selector_scores)\n",
    "#print(x_new.shape)\n",
    "Z = [elx for _,elx in sorted(zip(selector_scores,x_new), reverse=True)]\n",
    "\n",
    "Zchi = np.array(Z)\n",
    "print(Zchi.shape)"
   ]
  },
  {
   "cell_type": "code",
   "execution_count": 21,
   "metadata": {},
   "outputs": [],
   "source": [
    "#cross val with chi square\n",
    "import warnings\n",
    "from matplotlib import pyplot as plt\n",
    "from sklearn import svm\n",
    "from sklearn.model_selection import cross_val_score\n",
    "\n",
    "svmClassifier = svm.SVC(kernel='poly', degree=5)\n",
    "\n",
    "#disable warning\n",
    "warnings.filterwarnings(action='ignore')\n",
    "\n",
    "chisq_scoreList = []\n",
    "for fea in range(1, max_feature_chi+1):\n",
    "    Xfea = Zchi[:,:fea]\n",
    "    \n",
    "    scores = cross_val_score(svmClassifier, Xfea, y_float_class, cv=10)\n",
    "    chisq_scoreList.append(scores[-1])\n"
   ]
  },
  {
   "cell_type": "code",
   "execution_count": 22,
   "metadata": {
    "scrolled": true
   },
   "outputs": [
    {
     "data": {
      "image/png": "[encoded data removed]",
      "text/plain": [
       "<Figure size 432x288 with 1 Axes>"
      ]
     },
     "metadata": {
      "needs_background": "light"
     },
     "output_type": "display_data"
    }
   ],
   "source": [
    "#plot result\n",
    "#print(chisq_scoreList)\n",
    "plt.figure()\n",
    "plt.title('cross val score under different number of features')\n",
    "plt.plot(range(1,max_feature_chi+1),chisq_scoreList )\n",
    "plt.show()"
   ]
  },
  {
   "cell_type": "code",
   "execution_count": 23,
   "metadata": {},
   "outputs": [],
   "source": [
    "#mutual information feature selection\n",
    "from sklearn.feature_selection import mutual_info_classif\n",
    "\n",
    "selector = SelectKBest(mutual_info_classif, k=max_feature_mutualInfo).fit(data_float, y_float_class)\n",
    "x_new = selector.transform(data_float)\n",
    "\n",
    "selector_scores = selector.scores_\n",
    "#print(selector_scores)"
   ]
  },
  {
   "cell_type": "code",
   "execution_count": 24,
   "metadata": {},
   "outputs": [],
   "source": [
    "Z = []\n",
    "for x_row in x_new:\n",
    "    z = [elx for _,elx in sorted(zip(selector_scores, x_row), reverse=True)]\n",
    "    Z.append(np.array(z))\n",
    "ZmutalInfo = np.array(Z)\n",
    "#print(ZmutalInfo)"
   ]
  },
  {
   "cell_type": "code",
   "execution_count": 25,
   "metadata": {},
   "outputs": [],
   "source": [
    "#cross val with mutual info\n",
    "import warnings\n",
    "from matplotlib import pyplot as plt\n",
    "\n",
    "svmClassifier = svm.SVC(kernel='poly', degree=5)\n",
    "\n",
    "#disable warning\n",
    "warnings.filterwarnings(action='ignore')\n",
    "\n",
    "mutualInfo_scoreList = []\n",
    "for fea in range(1, max_feature_mutualInfo+1):\n",
    "    Xfea = ZmutalInfo[:,:fea]\n",
    "    \n",
    "    scores = cross_val_score(svmClassifier, Xfea, y_float_class, cv=10)\n",
    "    mutualInfo_scoreList.append(scores[-1])"
   ]
  },
  {
   "cell_type": "code",
   "execution_count": 26,
   "metadata": {
    "scrolled": true
   },
   "outputs": [
    {
     "data": {
      "image/png": "[encoded data removed]",
      "text/plain": [
       "<Figure size 432x288 with 1 Axes>"
      ]
     },
     "metadata": {
      "needs_background": "light"
     },
     "output_type": "display_data"
    }
   ],
   "source": [
    "#plot result\n",
    "#print(mutualInfo_scoreList)\n",
    "plt.figure()\n",
    "plt.title('cross val score under different number of features')\n",
    "plt.plot(range(1,max_feature_mutualInfo+1),mutualInfo_scoreList )\n",
    "plt.show()"
   ]
  },
  {
   "cell_type": "code",
   "execution_count": 27,
   "metadata": {},
   "outputs": [],
   "source": [
    "max_feature_ftest_secondpeak_start = 300\n",
    "max_feature_ftest_secondpeak_end = 400"
   ]
  },
  {
   "cell_type": "code",
   "execution_count": 28,
   "metadata": {},
   "outputs": [],
   "source": [
    "#f test feature selection\n",
    "from sklearn.feature_selection import f_classif\n",
    "\n",
    "selector = SelectKBest(f_classif, k=max_feature_ftest_secondpeak_end).fit(data_float, y_float_class)\n",
    "x_new = selector.transform(data_float)\n",
    "selector_scores = selector.scores_\n",
    "#print(selector_scores)"
   ]
  },
  {
   "cell_type": "code",
   "execution_count": 29,
   "metadata": {},
   "outputs": [],
   "source": [
    "Z = []\n",
    "for x_row in x_new:\n",
    "    z = [elx for _,elx in sorted(zip(selector_scores, x_row), reverse=True)]\n",
    "    Z.append(np.array(z))\n",
    "\n",
    "Zftest = np.array(Z)\n",
    "#print(Zftest)"
   ]
  },
  {
   "cell_type": "code",
   "execution_count": 31,
   "metadata": {},
   "outputs": [],
   "source": [
    "#cross val with f test\n",
    "import warnings\n",
    "from matplotlib import pyplot as plt\n",
    "\n",
    "svmClassifier = svm.SVC(kernel='poly', degree=5)\n",
    "\n",
    "#disable warning\n",
    "warnings.filterwarnings(action='ignore')\n",
    "\n",
    "f_test_scoreList = []\n",
    "for fea in range(1, max_feature_ftest_firstpeak+1):\n",
    "    Xfea = Zftest[:,:fea]\n",
    "    \n",
    "    scores = cross_val_score(svmClassifier, Xfea, y_float_class, cv=10)\n",
    "    f_test_scoreList.append(scores[-1])"
   ]
  },
  {
   "cell_type": "code",
   "execution_count": 32,
   "metadata": {
    "scrolled": true
   },
   "outputs": [
    {
     "data": {
      "image/png": "[encoded data removed]",
      "text/plain": [
       "<Figure size 432x288 with 1 Axes>"
      ]
     },
     "metadata": {
      "needs_background": "light"
     },
     "output_type": "display_data"
    }
   ],
   "source": [
    "#plot result\n",
    "#print(f_test_scoreList)\n",
    "plt.figure()\n",
    "plt.title('cross val score under different number of features')\n",
    "plt.plot(range(1,max_feature_ftest_firstpeak+1),f_test_scoreList )\n",
    "plt.show()"
   ]
  },
  {
   "cell_type": "code",
   "execution_count": 33,
   "metadata": {},
   "outputs": [],
   "source": [
    "#cross val with f test\n",
    "import warnings\n",
    "from matplotlib import pyplot as plt\n",
    "\n",
    "svmClassifier = svm.SVC(kernel='poly', degree=5)\n",
    "\n",
    "#disable warning\n",
    "warnings.filterwarnings(action='ignore')\n",
    "\n",
    "f_test_scoreList_second = []\n",
    "for fea in range(max_feature_ftest_secondpeak_start, max_feature_ftest_secondpeak_end+1):\n",
    "    Xfea = Zftest[:,:fea]\n",
    "    \n",
    "    scores = cross_val_score(svmClassifier, Xfea, y_float_class, cv=10)\n",
    "    f_test_scoreList_second.append(scores[-1])"
   ]
  },
  {
   "cell_type": "code",
   "execution_count": 34,
   "metadata": {},
   "outputs": [
    {
     "data": {
      "image/png": "[encoded data removed]",
      "text/plain": [
       "<Figure size 432x288 with 1 Axes>"
      ]
     },
     "metadata": {
      "needs_background": "light"
     },
     "output_type": "display_data"
    }
   ],
   "source": [
    "#plot result\n",
    "#print(f_test_scoreList)\n",
    "plt.figure()\n",
    "plt.title('cross val score under different number of features')\n",
    "plt.plot(range(max_feature_ftest_secondpeak_start,max_feature_ftest_secondpeak_end+1),f_test_scoreList_second )\n",
    "plt.show()"
   ]
  },
  {
   "cell_type": "code",
   "execution_count": 36,
   "metadata": {
    "scrolled": true
   },
   "outputs": [
    {
     "data": {
      "image/png": "[encoded data removed]",
      "text/plain": [
       "<Figure size 432x288 with 1 Axes>"
      ]
     },
     "metadata": {
      "needs_background": "light"
     },
     "output_type": "display_data"
    }
   ],
   "source": [
    "plt.figure()\n",
    "plt.title('cross val score under different number of features')\n",
    "plt.plot(range(1,max_feature_chi+1),chisq_scoreList, label='chi square' )\n",
    "plt.plot(range(1,max_feature_mutualInfo+1),mutualInfo_scoreList, label='mutual info' )\n",
    "plt.plot(range(1,max_feature_ftest_firstpeak+1),f_test_scoreList, label='f test 1' )\n",
    "plt.plot(range(max_feature_ftest_secondpeak_start,max_feature_ftest_secondpeak_end+1),f_test_scoreList_second, label='f test 2' )\n",
    "\n",
    "plt.legend()\n",
    "plt.show()"
   ]
  },
  {
   "cell_type": "code",
   "execution_count": 43,
   "metadata": {},
   "outputs": [
    {
     "name": "stdout",
     "output_type": "stream",
     "text": [
      "best score for chi square is:0.5510204081632653 with number of features:[12]\n",
      "best score for mutual information is:0.5918367346938775 with number of features:[17 18]\n",
      "best score for f test is:0.5510204081632653 with number of features:[12]\n"
     ]
    }
   ],
   "source": [
    "maxchisq = np.amax(chisq_scoreList)\n",
    "maxchisqindex = np.where(chisq_scoreList == np.amax(maxchisq))\n",
    "maxmutualinfo = np.amax(mutualInfo_scoreList)\n",
    "maxmutualinfoindex = np.where(mutualInfo_scoreList == np.amax(maxmutualinfo))\n",
    "maxftest = np.amax(f_test_scoreList)\n",
    "maxftestindex = np.where(f_test_scoreList == np.amax(maxftest))\n",
    "print(\"best score for chi square is:\"+str(maxchisq)+\" with number of features:\"+str(maxchisqindex[0]+1))\n",
    "\n",
    "print(\"best score for mutual information is:\"+str(maxmutualinfo)+\" with number of features:\"+str(maxmutualinfoindex[0]+1))\n",
    "\n",
    "print(\"best score for f test is:\"+str(maxftest)+\" with number of features:\"+str(maxftestindex[0]+1))\n"
   ]
  },
  {
   "cell_type": "code",
   "execution_count": null,
   "metadata": {},
   "outputs": [],
   "source": []
  }
 ],
 "metadata": {
  "kernelspec": {
   "display_name": "Python 3",
   "language": "python",
   "name": "python3"
  },
  "language_info": {
   "codemirror_mode": {
    "name": "ipython",
    "version": 3
   },
   "file_extension": ".py",
   "mimetype": "text/x-python",
   "name": "python",
   "nbconvert_exporter": "python",
   "pygments_lexer": "ipython3",
   "version": "3.7.4"
  }
 },
 "nbformat": 4,
 "nbformat_minor": 2
}
