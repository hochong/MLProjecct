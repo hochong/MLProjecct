{
 "cells": [
  {
   "cell_type": "code",
   "execution_count": 3,
   "metadata": {
    "scrolled": false
   },
   "outputs": [
    {
     "name": "stdout",
     "output_type": "stream",
     "text": [
      "{2.0, 3.0, 4.0, 5.0}\n",
      "0\n"
     ]
    },
    {
     "data": {
      "image/png": "[encoded data removed]",
      "text/plain": [
       "<Figure size 432x288 with 1 Axes>"
      ]
     },
     "metadata": {
      "needs_background": "light"
     },
     "output_type": "display_data"
    }
   ],
   "source": [
    "import xlrd\n",
    "\n",
    "import matplotlib.pyplot as plt\n",
    "fig = plt.figure()\n",
    "ax = fig.add_axes([0,0,1,1])\n",
    "\n",
    "filename = \"genes_transcript.xlsx\"\n",
    "sheet = xlrd.open_workbook(filename).sheet_by_index(0)\n",
    "gleason_scores = sheet.row_values(1)[1:]\n",
    "\n",
    "print(set(gleason_scores))\n",
    "\n",
    "gleason_scores_totals = [0,0,0,0,0]\n",
    "\n",
    "for score in gleason_scores:\n",
    "    if (score == 6.0):\n",
    "        gleason_scores_totals[0] += 1\n",
    "    if (score == 7.0):\n",
    "        gleason_scores_totals[1] += 1\n",
    "    if (score == 8.0):\n",
    "        gleason_scores_totals[2] += 1\n",
    "    if (score == 9.0):\n",
    "        gleason_scores_totals[3] += 1\n",
    "    if (score == 10.0):\n",
    "        gleason_scores_totals[4] += 1\n",
    "\n",
    "gleason_labels = [\"6.0\", \"7.0\", \"8.0\", \"9.0\", \"10.0\"]\n",
    "\n",
    "ax.bar(gleason_labels, gleason_scores_totals)\n",
    "print(sum(gleason_scores_totals))\n",
    "plt.title(\"Total samples for a gleason score primary\")\n",
    "plt.xlabel('Gleason Score Primary', fontsize=16)\n",
    "plt.ylabel('Samples', fontsize=16)\n",
    "plt.show()\n"
   ]
  },
  {
   "cell_type": "code",
   "execution_count": null,
   "metadata": {},
   "outputs": [],
   "source": [
    "\n"
   ]
  },
  {
   "cell_type": "code",
   "execution_count": null,
   "metadata": {},
   "outputs": [],
   "source": []
  },
  {
   "cell_type": "code",
   "execution_count": null,
   "metadata": {},
   "outputs": [],
   "source": []
  }
 ],
 "metadata": {
  "kernelspec": {
   "display_name": "Python 3",
   "language": "python",
   "name": "python3"
  },
  "language_info": {
   "codemirror_mode": {
    "name": "ipython",
    "version": 3
   },
   "file_extension": ".py",
   "mimetype": "text/x-python",
   "name": "python",
   "nbconvert_exporter": "python",
   "pygments_lexer": "ipython3",
   "version": "3.7.2"
  }
 },
 "nbformat": 4,
 "nbformat_minor": 2
}
